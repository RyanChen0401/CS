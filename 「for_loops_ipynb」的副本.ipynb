{
  "nbformat": 4,
  "nbformat_minor": 0,
  "metadata": {
    "colab": {
      "provenance": []
    },
    "kernelspec": {
      "name": "python3",
      "display_name": "Python 3"
    },
    "language_info": {
      "name": "python"
    }
  },
  "cells": [
    {
      "cell_type": "markdown",
      "source": [
        "### **Introduction to `for` Loops**\n",
        "\n",
        "In programming, a `for` loop provides a clean and concise way to iterate over a sequence of items. It's one of the most commonly used loops due to its simplicity and versatility in handling structured data types.\n",
        "\n",
        "---\n",
        "\n",
        "### **Iterating Over Ranges**\n",
        "\n",
        "The `range()` function generates a sequence of numbers, which can be used in a `for` loop to repeat an action a specific number of times.\n",
        "\n",
        "**Basic Syntax:**\n",
        "```python\n",
        "for variable in range(start, stop, step):\n",
        "    # body of the loop\n",
        "```\n",
        "\n",
        "- `start`: The beginning value (optional, default is 0).\n",
        "- `stop`: The end value (exclusive).\n",
        "- `step`: The increment/decrement value (optional, default is 1).\n",
        "\n",
        "**Example 1:** Counting from 0 to 4\n",
        "```python\n",
        "for i in range(5):\n",
        "    print(i)\n",
        "```\n",
        "\n",
        "**Example 2:** Counting from 2 to 8 in steps of 2\n",
        "```python\n",
        "for i in range(2, 9, 2):\n",
        "    print(i)\n",
        "```\n",
        "\n",
        "---\n",
        "\n",
        "### **Iterating Over Lists**\n",
        "\n",
        "A `for` loop can directly iterate over items in a list without needing to reference indices.\n",
        "\n",
        "**Basic Syntax:**\n",
        "```python\n",
        "for item in list_name:\n",
        "    # body of the loop\n",
        "```\n",
        "\n",
        "**Example:** Printing all items in a list\n",
        "```python\n",
        "fruits = [\"apple\", \"banana\", \"cherry\"]\n",
        "for fruit in fruits:\n",
        "    print(fruit)\n",
        "```\n",
        "\n",
        "**Note:** The `for` loop can also iterate over other iterable data types like tuples, sets, strings, and dictionaries.\n",
        "\n",
        "---\n",
        "\n"
      ],
      "metadata": {
        "id": "jPs46T6tIdCB"
      }
    },
    {
      "cell_type": "code",
      "source": [
        "#You can play around with the examples in this cell\n",
        "for i in range(2, 9, 2):\n",
        "    print(i)\n"
      ],
      "metadata": {
        "id": "vTqc3r88JzoK",
        "colab": {
          "base_uri": "https://localhost:8080/"
        },
        "outputId": "baf74ea5-e5c6-4d8f-cde5-6309f1f0d377"
      },
      "execution_count": null,
      "outputs": [
        {
          "output_type": "stream",
          "name": "stdout",
          "text": [
            "2\n",
            "4\n",
            "6\n",
            "8\n"
          ]
        }
      ]
    },
    {
      "cell_type": "markdown",
      "source": [
        "\n",
        "### **Practice Exercises:**\n",
        "\n",
        "1. **Number Doubler:** For numbers 1 through 10, print each number doubled.\n",
        "\n"
      ],
      "metadata": {
        "id": "5X8znl34J3A2"
      }
    },
    {
      "cell_type": "code",
      "source": [
        "#Ex1\n",
        "for i in range(1,11):\n",
        "  print(i*2)"
      ],
      "metadata": {
        "id": "UwcBDItUJsyv",
        "colab": {
          "base_uri": "https://localhost:8080/"
        },
        "outputId": "a4482254-7bf4-4c39-a7b4-e0bda2b5f343"
      },
      "execution_count": null,
      "outputs": [
        {
          "output_type": "stream",
          "name": "stdout",
          "text": [
            "2\n",
            "4\n",
            "6\n",
            "8\n",
            "10\n",
            "12\n",
            "14\n",
            "16\n",
            "18\n",
            "20\n"
          ]
        }
      ]
    },
    {
      "cell_type": "markdown",
      "source": [
        "2. **Vowel Finder:** Given a word, iterate over it and print only the vowels.\n"
      ],
      "metadata": {
        "id": "an5RrtO3J617"
      }
    },
    {
      "cell_type": "code",
      "source": [
        "#Ex2\n",
        "word=input(\"word: \")\n",
        "vowel=\"aeiouAEIOU\"\n",
        "for i in word:\n",
        "  if i in vowel:\n",
        "    print(i)"
      ],
      "metadata": {
        "id": "LefNxEbXJ8Zw",
        "colab": {
          "base_uri": "https://localhost:8080/"
        },
        "outputId": "3c39cf49-b30d-4baa-eb0a-9ea71c72d9d3"
      },
      "execution_count": null,
      "outputs": [
        {
          "output_type": "stream",
          "name": "stdout",
          "text": [
            "word: olaputide\n",
            "o\n",
            "a\n",
            "u\n",
            "i\n",
            "e\n"
          ]
        }
      ]
    },
    {
      "cell_type": "markdown",
      "source": [
        "3. **List Reverser:** Without using built-in functions, reverse the items in a list.\n"
      ],
      "metadata": {
        "id": "SWs102V4J9u-"
      }
    },
    {
      "cell_type": "code",
      "source": [
        "#Ex3\n",
        "items=[\"apple\",\"banana\",\"cherry\"]\n",
        "item=[]\n",
        "for i in items:\n",
        "  item=[i]+item\n",
        "print(item)"
      ],
      "metadata": {
        "id": "ev_24-pQJ_eN",
        "colab": {
          "base_uri": "https://localhost:8080/"
        },
        "outputId": "8dcd72a9-bbbf-478f-87d7-6e13ce43927a"
      },
      "execution_count": null,
      "outputs": [
        {
          "output_type": "stream",
          "name": "stdout",
          "text": [
            "['cherry', 'banana', 'apple']\n"
          ]
        }
      ]
    },
    {
      "cell_type": "markdown",
      "source": [
        "4. **Odd Number Counter:** Given a list of numbers, count how many odd numbers there are.\n"
      ],
      "metadata": {
        "id": "nzzOUhNiKAqP"
      }
    },
    {
      "cell_type": "code",
      "source": [
        "#Ex4\n",
        "odd=0\n",
        "n=[1,2,3,4,5,6,7,8,9]\n",
        "for i in n:\n",
        "  if i%2!=0:\n",
        "    odd=odd+1\n",
        "print(odd)"
      ],
      "metadata": {
        "id": "VMYhMku7KB8S",
        "colab": {
          "base_uri": "https://localhost:8080/"
        },
        "outputId": "7cd3d78e-e6ed-457a-871a-c6e33797e11a"
      },
      "execution_count": null,
      "outputs": [
        {
          "output_type": "stream",
          "name": "stdout",
          "text": [
            "5\n"
          ]
        }
      ]
    },
    {
      "cell_type": "markdown",
      "source": [
        "5. **Grade Assigner:** For a list of scores, assign and print grades (e.g., A, B, C).\n"
      ],
      "metadata": {
        "id": "lMx0qR57KDI4"
      }
    },
    {
      "cell_type": "code",
      "source": [
        "#Ex5\n",
        "grade=[10,20,30,40,50,60,70,80,90,100]\n",
        "for i in grade:\n",
        "  if i<60:\n",
        "    print(\"F\")\n",
        "  if i>=60 and i<70:\n",
        "    print(\"D\")\n",
        "  if i>=70 and i<80:\n",
        "    print(\"C\")\n",
        "  if i>=80 and i<90:\n",
        "    print(\"B\")\n",
        "  if i>=90:\n",
        "    print(\"A\")"
      ],
      "metadata": {
        "id": "9UhJ6-F6KFDN",
        "colab": {
          "base_uri": "https://localhost:8080/"
        },
        "outputId": "d5c0e29f-684d-43a5-d3eb-e40abeaea4d5"
      },
      "execution_count": null,
      "outputs": [
        {
          "output_type": "stream",
          "name": "stdout",
          "text": [
            "F\n",
            "F\n",
            "F\n",
            "F\n",
            "F\n",
            "D\n",
            "C\n",
            "B\n",
            "A\n",
            "A\n"
          ]
        }
      ]
    },
    {
      "cell_type": "markdown",
      "source": [
        "6. **Word Lengths:** For a list of words, print each word alongside its length.\n"
      ],
      "metadata": {
        "id": "a-5VcK9GKGMi"
      }
    },
    {
      "cell_type": "code",
      "source": [
        "#Ex6\n",
        "words=[\"haha\",\"hahaha\",\"hahahaha\"]\n",
        "for word in words:\n",
        "  print(word,len(word))"
      ],
      "metadata": {
        "id": "WJ2YmGMZKT68",
        "colab": {
          "base_uri": "https://localhost:8080/"
        },
        "outputId": "79a1e2b3-fa05-4f35-cb66-1a02df9d40c6"
      },
      "execution_count": null,
      "outputs": [
        {
          "output_type": "stream",
          "name": "stdout",
          "text": [
            "haha 4\n",
            "hahaha 6\n",
            "hahahaha 8\n"
          ]
        }
      ]
    },
    {
      "cell_type": "markdown",
      "source": [
        "7. **Positive Number Finder:** Given a list of numbers, print only the positive ones.\n"
      ],
      "metadata": {
        "id": "G7NqPlM_KflV"
      }
    },
    {
      "cell_type": "code",
      "source": [
        "#Ex7\n",
        "n=[-1,3,80,-3]\n",
        "for i in n:\n",
        "  if i>0:\n",
        "    print(i)"
      ],
      "metadata": {
        "id": "W2_2S2xBKgsY",
        "colab": {
          "base_uri": "https://localhost:8080/"
        },
        "outputId": "11e4d0b4-eee9-4e63-aa18-f6bccc08247a"
      },
      "execution_count": null,
      "outputs": [
        {
          "output_type": "stream",
          "name": "stdout",
          "text": [
            "3\n",
            "80\n"
          ]
        }
      ]
    },
    {
      "cell_type": "markdown",
      "source": [
        "8. **Temperature Converter:** Convert a list of temperatures from Celsius to Fahrenheit and print them.\n"
      ],
      "metadata": {
        "id": "Am8UDtkgKhwu"
      }
    },
    {
      "cell_type": "code",
      "source": [
        "#Ex8\n",
        "t=[1,2,3,5,7,9]\n",
        "for i in t:\n",
        "  print(i*1.8+32)\n"
      ],
      "metadata": {
        "id": "nXjgFlTeKi3h",
        "colab": {
          "base_uri": "https://localhost:8080/"
        },
        "outputId": "bad63c76-0359-42e5-c59d-4ab0186f0b9b"
      },
      "execution_count": null,
      "outputs": [
        {
          "output_type": "stream",
          "name": "stdout",
          "text": [
            "33.8\n",
            "35.6\n",
            "37.4\n",
            "41.0\n",
            "44.6\n",
            "48.2\n"
          ]
        }
      ]
    },
    {
      "cell_type": "markdown",
      "source": [
        "9. **Name Initials:** For a list of full names, print the initials of each name.\n"
      ],
      "metadata": {
        "id": "MhodCC6HKkLh"
      }
    },
    {
      "cell_type": "code",
      "source": [
        "#Ex9\n",
        "names=[\"apple black\",\"banana blue\",\"allen dum\",\"cherry fly\"]\n",
        "for i in names:\n",
        "  for j in range(len(i)):\n",
        "    if i[j] == \" \":\n",
        "      a = j+1\n",
        "  print(i[0].upper()+i[a].upper())"
      ],
      "metadata": {
        "id": "HQ5_rY3-Klnc",
        "colab": {
          "base_uri": "https://localhost:8080/"
        },
        "outputId": "29d83277-d404-43d9-f48a-17878b3fa9af"
      },
      "execution_count": 10,
      "outputs": [
        {
          "output_type": "stream",
          "name": "stdout",
          "text": [
            "AB\n",
            "BB\n",
            "AD\n",
            "CF\n"
          ]
        }
      ]
    },
    {
      "cell_type": "markdown",
      "source": [
        "10. **Range Sum:** Calculate the sum of numbers from 1 to 100 using a `for` loop."
      ],
      "metadata": {
        "id": "Sbmpt_V3Kpd_"
      }
    },
    {
      "cell_type": "code",
      "source": [
        "#Ex10\n",
        "a=0\n",
        "for i in range(1,101,1):\n",
        "  a=a+i\n",
        "print(a)\n"
      ],
      "metadata": {
        "id": "EQ1De9pKKrrz",
        "colab": {
          "base_uri": "https://localhost:8080/"
        },
        "outputId": "d1800dab-ea1f-4666-cf2e-64434da0878e"
      },
      "execution_count": 2,
      "outputs": [
        {
          "output_type": "stream",
          "name": "stdout",
          "text": [
            "5050\n"
          ]
        }
      ]
    }
  ]
}