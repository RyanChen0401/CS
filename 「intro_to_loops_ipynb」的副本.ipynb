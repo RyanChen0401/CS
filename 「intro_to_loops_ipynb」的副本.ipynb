{
  "nbformat": 4,
  "nbformat_minor": 0,
  "metadata": {
    "colab": {
      "provenance": []
    },
    "kernelspec": {
      "name": "python3",
      "display_name": "Python 3"
    },
    "language_info": {
      "name": "python"
    }
  },
  "cells": [
    {
      "cell_type": "markdown",
      "source": [
        "\n",
        "### **Introduction to Loops**\n",
        "\n",
        "In programming, loops offer a way to perform a set of instructions repeatedly. They are fundamental for tasks that require the same action to be taken on a series of items, or for actions to be repeated until a certain condition is met.\n",
        "\n",
        "---\n",
        "\n",
        "### **Understanding the `while` Loop and its Applications**\n",
        "\n",
        "The `while` loop executes a block of code as long as a specified condition remains `True`.\n",
        "\n",
        "**Basic Syntax:**\n",
        "```python\n",
        "while condition:\n",
        "    # body of the loop\n",
        "```\n",
        "\n",
        "**Example:**\n",
        "```python\n",
        "count = 0\n",
        "while count < 5:\n",
        "    print(count)\n",
        "    count += 1\n",
        "```\n",
        "\n",
        "In the above example, the loop will print numbers from 0 to 4. The loop continues as long as `count` is less than 5.\n",
        "\n",
        "**Applications:**\n",
        "1. **Repeating an action** until a user decides to quit.\n",
        "2. **Waiting for an external condition** to change (e.g., waiting for user input).\n",
        "3. **Polling:** Checking repeatedly if a resource is available or a task is completed.\n",
        "\n",
        "---\n",
        "\n",
        "### **Creating Counters and Accumulators**\n",
        "\n",
        "**1. Counters:**\n",
        "A counter is a variable that is incremented or decremented with each iteration of a loop.\n",
        "\n",
        "**Example:**\n",
        "```python\n",
        "# Counting how many times a loop runs\n",
        "count = 0\n",
        "while count < 10:\n",
        "    print(\"Loop iteration:\", count)\n",
        "    count += 1\n",
        "```\n",
        "\n",
        "**2. Accumulators:**\n",
        "An accumulator is a variable that collects or accumulates a value over time within a loop.\n",
        "\n",
        "**Example:**\n",
        "```python\n",
        "# Summing numbers from 1 to 5\n",
        "total = 0\n",
        "number = 1\n",
        "while number <= 5:\n",
        "    total += number\n",
        "    number += 1\n",
        "print(\"Total sum:\", total)\n",
        "```\n",
        "\n",
        "In the above example, `total` is an accumulator that collects the sum of numbers from 1 to 5.\n",
        "\n",
        "\n"
      ],
      "metadata": {
        "id": "a2Db_gg2H9l2"
      }
    },
    {
      "cell_type": "code",
      "source": [
        "#Play around with the examples in this cell"
      ],
      "metadata": {
        "id": "ixvEg1OJI0vm"
      },
      "execution_count": null,
      "outputs": []
    },
    {
      "cell_type": "markdown",
      "source": [
        "---\n",
        "\n",
        "### **Practice Exercises:**\n",
        "\n",
        "1. **Positive Number Collector:** Ask the user to keep entering numbers. Stop when they enter a negative number and display the sum of all positive numbers entered.\n"
      ],
      "metadata": {
        "id": "icvXf-Q8I4tF"
      }
    },
    {
      "cell_type": "code",
      "source": [
        "#Ex1\n",
        "a=0\n",
        "total=0\n",
        "while a>=0:\n",
        "  a=float(input(\"enter number: \"))\n",
        "  total=total+a\n",
        "else:\n",
        "  print(total)"
      ],
      "metadata": {
        "id": "HWqs6QFuI6Pd",
        "colab": {
          "base_uri": "https://localhost:8080/"
        },
        "outputId": "2fc9c88b-c9fc-46a6-be8d-4ed77f68c056"
      },
      "execution_count": 3,
      "outputs": [
        {
          "output_type": "stream",
          "name": "stdout",
          "text": [
            "enter number: 9\n",
            "enter number: 8\n",
            "enter number: 5\n",
            "enter number: 3\n",
            "enter number: 1\n",
            "enter number: -1\n",
            "25.0\n"
          ]
        }
      ]
    },
    {
      "cell_type": "markdown",
      "source": [
        "2. **Guessing Game:** Think of a number between 1 and 10. Allow the user to guess until they get the right number.\n"
      ],
      "metadata": {
        "id": "-_u-1EvmI8Dj"
      }
    },
    {
      "cell_type": "code",
      "source": [
        "#Ex2\n",
        "n=3\n",
        "guess=0\n",
        "while guess!=n:\n",
        "  guess=int(input(\"guess a number between one to ten: \"))\n",
        "else:\n",
        "  print(\"correct\")"
      ],
      "metadata": {
        "id": "pmd2ui8UI9nI",
        "colab": {
          "base_uri": "https://localhost:8080/"
        },
        "outputId": "f8786931-d72a-4d3d-bf93-ca7e6e28b88c"
      },
      "execution_count": 4,
      "outputs": [
        {
          "output_type": "stream",
          "name": "stdout",
          "text": [
            "guess a number between one to ten: 1\n",
            "guess a number between one to ten: 2\n",
            "guess a number between one to ten: 3\n",
            "correct\n"
          ]
        }
      ]
    },
    {
      "cell_type": "markdown",
      "source": [
        "3. **Exponential Growth:** Given a number, keep multiplying it by 2 until it exceeds 1000. Count how many multiplications were needed.\n"
      ],
      "metadata": {
        "id": "sMHpPBRQI_Kh"
      }
    },
    {
      "cell_type": "code",
      "source": [
        "#Ex3\n",
        "number=float(input(\"number: \"))\n",
        "a=0\n",
        "while number<1000:\n",
        "  a=a+1\n",
        "  number=number*2\n",
        "\n",
        "else:\n",
        "  print(a)"
      ],
      "metadata": {
        "id": "5ueHSVhEJA5S",
        "colab": {
          "base_uri": "https://localhost:8080/"
        },
        "outputId": "c9746cc3-340d-4618-e213-37f6c7d570f8"
      },
      "execution_count": 10,
      "outputs": [
        {
          "output_type": "stream",
          "name": "stdout",
          "text": [
            "number: 10\n",
            "7\n"
          ]
        }
      ]
    },
    {
      "cell_type": "markdown",
      "source": [
        "4. **Password Retry:** Allow a user 3 attempts to enter a correct password.\n"
      ],
      "metadata": {
        "id": "R37qmrpgJCZY"
      }
    },
    {
      "cell_type": "code",
      "source": [
        "#Ex4\n",
        "password=123456789\n",
        "guess=0\n",
        "tries=0\n",
        "while guess!=password and tries<3:\n",
        "  guess=int(input(\"what's the password? \"))\n",
        "  tries=tries+1\n",
        "\n",
        "if guess==password:\n",
        "  print(\"congrats\")\n"
      ],
      "metadata": {
        "id": "-mVz_khOJDt3",
        "colab": {
          "base_uri": "https://localhost:8080/"
        },
        "outputId": "87ed8583-9a87-4027-fa55-7104ae06caa9"
      },
      "execution_count": 15,
      "outputs": [
        {
          "output_type": "stream",
          "name": "stdout",
          "text": [
            "what's the password? 2\n",
            "what's the password? 3\n",
            "what's the password? 123456789\n",
            "congrats\n"
          ]
        }
      ]
    },
    {
      "cell_type": "markdown",
      "source": [
        "5. **Interest Calculator:** If you invest $100 at a 5% annual interest rate, how many years will it take for the money to double using compound interest?\n"
      ],
      "metadata": {
        "id": "xE9VCCIPJEtP"
      }
    },
    {
      "cell_type": "code",
      "source": [
        "#Ex5\n",
        "money=100\n",
        "year=0\n",
        "while money<200:\n",
        "  money=money*1.05\n",
        "  year=year+1\n",
        "if money>=200:\n",
        "  print(year, \"years\")"
      ],
      "metadata": {
        "id": "_muBoRqzJGB3",
        "colab": {
          "base_uri": "https://localhost:8080/"
        },
        "outputId": "0aa019c2-7439-468b-994a-2a8314b0922a"
      },
      "execution_count": 17,
      "outputs": [
        {
          "output_type": "stream",
          "name": "stdout",
          "text": [
            "15 years\n"
          ]
        }
      ]
    },
    {
      "cell_type": "markdown",
      "source": [
        "6. **Number of Divisors:** For a given number, find out how many divisors it has.\n"
      ],
      "metadata": {
        "id": "UGn7LFPyJHUi"
      }
    },
    {
      "cell_type": "code",
      "source": [
        "#Ex6\n",
        "number=int(input(\"number: \"))\n",
        "a=1\n",
        "divisor=0\n",
        "while a<=number:\n",
        "  if number%a==0:\n",
        "    divisor=divisor+1\n",
        "    a=a+1\n",
        "  elif number%a!=0:\n",
        "    a=a+1\n",
        "print(\"number of divisors: \", divisor)"
      ],
      "metadata": {
        "id": "50u_gFOuJJBB",
        "colab": {
          "base_uri": "https://localhost:8080/"
        },
        "outputId": "c0fee6bb-fdef-4efd-c289-1a7ea6937151"
      },
      "execution_count": 19,
      "outputs": [
        {
          "output_type": "stream",
          "name": "stdout",
          "text": [
            "number: 6\n",
            "number of divisors:  4\n"
          ]
        }
      ]
    },
    {
      "cell_type": "markdown",
      "source": [
        "7. **User Input Collector:** Keep asking the user for input until they type \"exit\" or \"quit\".\n"
      ],
      "metadata": {
        "id": "LAoVS7NyJLDl"
      }
    },
    {
      "cell_type": "code",
      "source": [
        "b=input(\"type something: \")\n",
        "while b!=\"quit\" and b!=\"exit\":\n",
        "  b=input(\"type something: \")"
      ],
      "metadata": {
        "id": "51EYMHtzJMVE",
        "colab": {
          "base_uri": "https://localhost:8080/"
        },
        "outputId": "77c27038-489a-4e7c-835e-f5e6b1761368"
      },
      "execution_count": 3,
      "outputs": [
        {
          "name": "stdout",
          "output_type": "stream",
          "text": [
            "type something: quit\n"
          ]
        }
      ]
    },
    {
      "cell_type": "markdown",
      "source": [
        "8. **Factorial Calculator:** Calculate the factorial of a number using a loop.\n"
      ],
      "metadata": {
        "id": "-Bmx7J87JOFD"
      }
    },
    {
      "cell_type": "code",
      "source": [
        "#Ex8\n",
        "number=int(input(\"enter a number: \"))\n",
        "a=number\n",
        "while a>1:\n",
        "  a=a-1\n",
        "  number=number*a\n",
        "print(number)"
      ],
      "metadata": {
        "id": "i_Ai-9CpJPf3",
        "colab": {
          "base_uri": "https://localhost:8080/"
        },
        "outputId": "e041193e-b73b-4b9f-92d2-319ceab0098a"
      },
      "execution_count": 6,
      "outputs": [
        {
          "output_type": "stream",
          "name": "stdout",
          "text": [
            "enter a number: 5\n",
            "120\n"
          ]
        }
      ]
    },
    {
      "cell_type": "markdown",
      "source": [
        "9. **Fibonacci Sequence:** Generate the first N numbers of the Fibonacci sequence.\n"
      ],
      "metadata": {
        "id": "DC6RN9NGJQpX"
      }
    },
    {
      "cell_type": "code",
      "source": [
        "#Ex9\n",
        "print(\"1\")\n"
      ],
      "metadata": {
        "id": "6RV7fRW9JR-b",
        "colab": {
          "base_uri": "https://localhost:8080/"
        },
        "outputId": "cc787589-4d3f-433d-d935-ed9926a6a5db"
      },
      "execution_count": 9,
      "outputs": [
        {
          "output_type": "stream",
          "name": "stdout",
          "text": [
            "1\n"
          ]
        }
      ]
    },
    {
      "cell_type": "markdown",
      "source": [
        "10. **Decreasing Counter:** Start from 100 and count down by sevens. Stop if the number goes negative."
      ],
      "metadata": {
        "id": "dnX8zfHcJTXi"
      }
    },
    {
      "cell_type": "code",
      "source": [
        "#Ex10\n",
        "a=100\n",
        "while a>=0:\n",
        "  a=a-7\n",
        "  print(a)"
      ],
      "metadata": {
        "id": "2bkZxvmIJUHN",
        "colab": {
          "base_uri": "https://localhost:8080/"
        },
        "outputId": "c4e8b9be-ef50-427a-b7b2-fc04be43d627"
      },
      "execution_count": 8,
      "outputs": [
        {
          "output_type": "stream",
          "name": "stdout",
          "text": [
            "93\n",
            "86\n",
            "79\n",
            "72\n",
            "65\n",
            "58\n",
            "51\n",
            "44\n",
            "37\n",
            "30\n",
            "23\n",
            "16\n",
            "9\n",
            "2\n",
            "-5\n"
          ]
        }
      ]
    }
  ]
}